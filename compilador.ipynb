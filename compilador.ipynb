{
 "cells": [
  {
   "cell_type": "code",
   "execution_count": 1,
   "metadata": {},
   "outputs": [],
   "source": [
    "# imports de bibliotecas\n",
    "import os\n",
    "import numpy as np"
   ]
  },
  {
   "cell_type": "code",
   "execution_count": 20,
   "metadata": {},
   "outputs": [
    {
     "name": "stdout",
     "output_type": "stream",
     "text": [
      "Arquivo carregado!\n",
      " <_io.TextIOWrapper name='entrada.txt' mode='r' encoding='UTF-8'>\n"
     ]
    }
   ],
   "source": [
    "ARQUIVO_ANALEX = 'entrada.txt'\n",
    "TABELA_SIMBOLOS = 'tabela.txt'\n",
    "\n",
    "# Declaração de códigos de erro\n",
    "ARQUIVO_INVALIDO = 1\n",
    "\n",
    "# Declaração de todos os sinais e palavras reservadas da linguagem\n",
    "sinais = ['+', '-', '*', '/', '^', '√']\n",
    "palavras_reservadas = ['(', ')']\n",
    "\n",
    "def carregarArquivo(arquivo):\n",
    "  lista_diretorio = os.listdir()\n",
    "  if arquivo in lista_diretorio:\n",
    "    entrada = open(arquivo, 'r')\n",
    "    return entrada\n",
    "  else:\n",
    "      return False\n",
    "\n",
    "def tratarErros(erro):\n",
    "  if erro == ARQUIVO_INVALIDO:\n",
    "    print('Arquivo não encontrado.')\n",
    "\n",
    "def analex(nome_arquivo):\n",
    "  arquivo = carregarArquivo(nome_arquivo)\n",
    "  if arquivo:\n",
    "    print('Arquivo carregado!\\n', arquivo)\n",
    "  else:\n",
    "    tratarErros(ARQUIVO_INVALIDO)\n",
    "  # file.read(1)\n",
    "\n",
    "  # recebe atomo\n",
    "  # verifica se é número\n",
    "  #   se for, adiciona ao token e repete classificacao\n",
    "  # classifica como número\n",
    "  # senão\n",
    "  # verifica se é operador\n",
    "  #   se for, classifica o token como operador\n",
    "  # senão\n",
    "  # verifica se é palavra reservada\n",
    "  #   se for, classifica o token como palavra reservada\n",
    "\n",
    "#resultado = carregarArquivo(ARQUIVO_ANALEX)\n",
    "#print(resultado)\n",
    "analex(ARQUIVO_ANALEX)"
   ]
  }
 ],
 "metadata": {
  "interpreter": {
   "hash": "e7370f93d1d0cde622a1f8e1c04877d8463912d04d973331ad4851f04de6915a"
  },
  "kernelspec": {
   "display_name": "Python 3.8.10 64-bit",
   "language": "python",
   "name": "python3"
  },
  "language_info": {
   "codemirror_mode": {
    "name": "ipython",
    "version": 3
   },
   "file_extension": ".py",
   "mimetype": "text/x-python",
   "name": "python",
   "nbconvert_exporter": "python",
   "pygments_lexer": "ipython3",
   "version": "3.8.10"
  },
  "orig_nbformat": 4
 },
 "nbformat": 4,
 "nbformat_minor": 2
}

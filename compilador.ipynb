{
 "cells": [
  {
   "cell_type": "code",
   "execution_count": 1,
   "metadata": {},
   "outputs": [],
   "source": [
    "# imports de bibliotecas\n",
    "import os\n",
    "import numpy as np"
   ]
  },
  {
   "cell_type": "code",
   "execution_count": 11,
   "metadata": {},
   "outputs": [
    {
     "name": "stdout",
     "output_type": "stream",
     "text": [
      "Arquivo carregado!\n",
      "\n",
      "NUMERO 5\n",
      "SINAL +\n",
      "NUMERO 20\n"
     ]
    }
   ],
   "source": [
    "ARQUIVO_ANALEX = 'entrada.txt'\n",
    "TABELA_SIMBOLOS = 'tabela.txt'\n",
    "\n",
    "# Declaração de códigos de erro\n",
    "ARQUIVO_INVALIDO = 1\n",
    "CARACTERE_INVALIDO = 2\n",
    "# Declaração de todos os sinais e palavras reservadas da linguagem\n",
    "sinais = ['+', '-', '*', '/', '^', '√']\n",
    "palavras_reservadas = ['(', ')']\n",
    "tipo_token = ['SINAL', 'NUMERO', 'PALAVRA_RESERVADA']\n",
    "\n",
    "parser_table = []\n",
    "\n",
    "def carregarArquivo(arquivo):\n",
    "  lista_diretorio = os.listdir()\n",
    "  if arquivo in lista_diretorio:\n",
    "    entrada = open(arquivo, 'r')\n",
    "    return entrada.read()\n",
    "  else:\n",
    "      return False\n",
    "\n",
    "def tratarErros(erro):\n",
    "  if erro == ARQUIVO_INVALIDO:\n",
    "    print('Arquivo não encontrado.')\n",
    "  elif erro == CARACTERE_INVALIDO:\n",
    "    print('Caractere inválido encontrado.')\n",
    "\n",
    "def salvarToken(palavra, classificacao):\n",
    "  parser_table.append([tipo_token[classificacao], palavra])\n",
    "\n",
    "def imprimirTabela():\n",
    "  for item in parser_table:\n",
    "    print(item[0], item[1])\n",
    "\n",
    "def analex(nome_arquivo):\n",
    "  arquivo = carregarArquivo(nome_arquivo)\n",
    "  erro = False\n",
    "  if arquivo:\n",
    "    print('Arquivo carregado!\\n')\n",
    "  else:\n",
    "    tratarErros(ARQUIVO_INVALIDO)\n",
    "    return\n",
    "  palavra = ''\n",
    "  classificacao = -1\n",
    "  for index, letra in enumerate(arquivo):\n",
    "    if letra.isdigit():\n",
    "      palavra += letra\n",
    "      classificacao = 1\n",
    "      if index == len(arquivo)-1:\n",
    "        salvarToken(palavra, classificacao)\n",
    "    elif letra in sinais:\n",
    "      if palavra:\n",
    "        salvarToken(palavra, classificacao)\n",
    "        palavra = ''\n",
    "      classificacao = 0\n",
    "      salvarToken(letra, classificacao)\n",
    "    elif letra in palavras_reservadas:\n",
    "      if palavra:\n",
    "        salvarToken(palavra, classificacao)\n",
    "        palavra = ''\n",
    "      classificacao = 2\n",
    "      salvarToken(letra, classificacao)\n",
    "    else:\n",
    "      erro = True\n",
    "      tratarErros(CARACTERE_INVALIDO)\n",
    "      break\n",
    "  if not erro:\n",
    "    imprimirTabela()\n",
    "  #escreverOriginal(arquivo, conteudo_original)\n",
    "  # enquanto não for fim do arquivo\n",
    "    # recebe atomo\n",
    "    # se token está formado (token == True)\n",
    "    #   guarda token na tabela\n",
    "    #   limpa formação token\n",
    "    #   token = False\n",
    "    # senao \n",
    "      # verifica se é número\n",
    "      #   se for, adiciona ao token e repete classificacao\n",
    "      #   classifica como número\n",
    "      # senão\n",
    "      # verifica se é operador\n",
    "      #   se for, classifica o token como operador\n",
    "      # senão\n",
    "      # verifica se é palavra reservada\n",
    "      #   se for, classifica o token como palavra reservada\n",
    "\n",
    "analex(ARQUIVO_ANALEX)"
   ]
  },
  {
   "cell_type": "code",
   "execution_count": 121,
   "metadata": {},
   "outputs": [
    {
     "name": "stdout",
     "output_type": "stream",
     "text": [
      "[[0, 'teste0'], [1, 'teste1'], [2, 'teste2'], [3, 'teste3'], [4, 'teste4']]\n",
      "0 teste0\n"
     ]
    }
   ],
   "source": [
    "# [arquivo, conteudo_original] = carregarArquivo(ARQUIVO_ANALEX)\n",
    "# teste = conteudo_original.read()\n",
    "# atomo = arquivo.read(1)\n",
    "# atomo = arquivo.read(1)\n",
    "# atomo = arquivo.read(1)\n",
    "# print(teste)\n",
    "# arquivo.seek(0)\n",
    "# arquivo.write('outro' + teste)\n",
    "# print(arquivo.read())\n",
    "\n",
    "# with open('entrada.txt', 'r+') as f:\n",
    "#   content = f.read()\n",
    "#   f.seek(0, 0)\n",
    "#   f.write('outro'.rstrip('\\r\\n') + content)\n",
    "\n",
    "# string = '123456'\n",
    "# for numero in string:\n",
    "#   print(numero)\n",
    "\n",
    "# palavra = ''\n",
    "# if palavra:\n",
    "#   print('entrou')\n",
    "\n",
    "classificacao = []\n",
    "\n",
    "for i in range(5):\n",
    "  classificacao.append([i, 'teste'+ str(i)])\n",
    "\n",
    "print(classificacao)\n",
    "print(classificacao[0][0], classificacao[0][1])\n",
    "\n",
    "#usar split no analisador sintatico"
   ]
  }
 ],
 "metadata": {
  "interpreter": {
   "hash": "e7370f93d1d0cde622a1f8e1c04877d8463912d04d973331ad4851f04de6915a"
  },
  "kernelspec": {
   "display_name": "Python 3.8.10 64-bit",
   "language": "python",
   "name": "python3"
  },
  "language_info": {
   "codemirror_mode": {
    "name": "ipython",
    "version": 3
   },
   "file_extension": ".py",
   "mimetype": "text/x-python",
   "name": "python",
   "nbconvert_exporter": "python",
   "pygments_lexer": "ipython3",
   "version": "3.8.10"
  },
  "orig_nbformat": 4
 },
 "nbformat": 4,
 "nbformat_minor": 2
}
